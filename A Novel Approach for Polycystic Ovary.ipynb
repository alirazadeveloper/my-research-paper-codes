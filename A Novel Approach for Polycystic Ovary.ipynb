{
  "cells": [
    {
      "cell_type": "markdown",
      "source": [
        "# Importing dataset"
      ],
      "metadata": {
        "id": "E76gP14iUKIm"
      }
    },
    {
      "cell_type": "code",
      "source": [
        "import warnings\n",
        "warnings.filterwarnings('ignore')"
      ],
      "metadata": {
        "id": "ZsjZX_8PVnG6"
      },
      "execution_count": 1,
      "outputs": []
    },
    {
      "cell_type": "code",
      "execution_count": 2,
      "metadata": {
        "id": "JygRYHSFZcnQ"
      },
      "outputs": [],
      "source": [
        "import pandas as pd\n",
        "import numpy as np\n",
        "df = pd.read_csv(r'/content/data without infertility _1.csv')\n",
        "df['AMH(ng/mL)'] = pd.to_numeric(df['AMH(ng/mL)'],errors = 'coerce')"
      ]
    },
    {
      "cell_type": "code",
      "source": [
        "df.info()"
      ],
      "metadata": {
        "colab": {
          "base_uri": "https://localhost:8080/"
        },
        "id": "cSKXsYyVLpkc",
        "outputId": "846b3e24-2983-4668-cad8-55cd5df6ef4c"
      },
      "execution_count": 3,
      "outputs": [
        {
          "output_type": "stream",
          "name": "stdout",
          "text": [
            "<class 'pandas.core.frame.DataFrame'>\n",
            "RangeIndex: 541 entries, 0 to 540\n",
            "Data columns (total 42 columns):\n",
            " #   Column                 Non-Null Count  Dtype  \n",
            "---  ------                 --------------  -----  \n",
            " 0   Sl. No                 541 non-null    int64  \n",
            " 1   Patient File No.       541 non-null    int64  \n",
            " 2   PCOS (Y/N)             541 non-null    int64  \n",
            " 3    Age (yrs)             541 non-null    int64  \n",
            " 4   Weight (Kg)            541 non-null    float64\n",
            " 5   Height(Cm)             541 non-null    float64\n",
            " 6   BMI                    541 non-null    float64\n",
            " 7   Blood Group            541 non-null    int64  \n",
            " 8   Pulse rate(bpm)        541 non-null    int64  \n",
            " 9   RR (breaths/min)       541 non-null    int64  \n",
            " 10  Hb(g/dl)               541 non-null    float64\n",
            " 11  Cycle(R/I)             541 non-null    int64  \n",
            " 12  Cycle length(days)     541 non-null    int64  \n",
            " 13  Marraige Status (Yrs)  540 non-null    float64\n",
            " 14  Pregnant(Y/N)          541 non-null    int64  \n",
            " 15  No. of aborptions      541 non-null    int64  \n",
            " 16  FSH(mIU/mL)            541 non-null    float64\n",
            " 17  LH(mIU/mL)             541 non-null    float64\n",
            " 18  FSH/LH                 541 non-null    float64\n",
            " 19  Hip(inch)              541 non-null    int64  \n",
            " 20  Waist(inch)            541 non-null    int64  \n",
            " 21  Waist:Hip Ratio        541 non-null    float64\n",
            " 22  TSH (mIU/L)            541 non-null    float64\n",
            " 23  AMH(ng/mL)             540 non-null    float64\n",
            " 24  PRL(ng/mL)             541 non-null    float64\n",
            " 25  Vit D3 (ng/mL)         541 non-null    float64\n",
            " 26  PRG(ng/mL)             541 non-null    float64\n",
            " 27  RBS(mg/dl)             541 non-null    float64\n",
            " 28  Weight gain(Y/N)       541 non-null    int64  \n",
            " 29  hair growth(Y/N)       541 non-null    int64  \n",
            " 30  Skin darkening (Y/N)   541 non-null    int64  \n",
            " 31  Hair loss(Y/N)         541 non-null    int64  \n",
            " 32  Pimples(Y/N)           541 non-null    int64  \n",
            " 33  Fast food (Y/N)        540 non-null    float64\n",
            " 34  Reg.Exercise(Y/N)      541 non-null    int64  \n",
            " 35  BP _Systolic (mmHg)    541 non-null    int64  \n",
            " 36  BP _Diastolic (mmHg)   541 non-null    int64  \n",
            " 37  Follicle No. (L)       541 non-null    int64  \n",
            " 38  Follicle No. (R)       541 non-null    int64  \n",
            " 39  Avg. F size (L) (mm)   541 non-null    float64\n",
            " 40  Avg. F size (R) (mm)   541 non-null    float64\n",
            " 41  Endometrium (mm)       541 non-null    float64\n",
            "dtypes: float64(19), int64(23)\n",
            "memory usage: 177.6 KB\n"
          ]
        }
      ]
    },
    {
      "cell_type": "markdown",
      "source": [
        "# Preprocessing"
      ],
      "metadata": {
        "id": "DDWklmHuUHQK"
      }
    },
    {
      "cell_type": "code",
      "execution_count": 4,
      "metadata": {
        "id": "Es4eaMN3_v37"
      },
      "outputs": [],
      "source": [
        "#Remove null value\n",
        "# df.dropna(axis=0, how=\"any\", inplace=True)\n",
        "df.fillna(0, inplace=True)\n",
        "#After removing null rows Reset the index\n",
        "df.reset_index(drop=True,inplace=True)\n",
        "x = df.drop(['PCOS (Y/N)','Sl. No','Patient File No.'],axis=1)\n",
        "y = df['PCOS (Y/N)']"
      ]
    },
    {
      "cell_type": "markdown",
      "source": [
        "## Perform chi2 test"
      ],
      "metadata": {
        "id": "g0LIHgKRUEGY"
      }
    },
    {
      "cell_type": "code",
      "source": [
        "### chi2 returns 2 values\n",
        "### Fscore and the pvalue\n",
        "from sklearn.feature_selection import chi2\n",
        "f_p_values=chi2(x,y)\n",
        "f_p_values\n",
        "#import pandas as pd\n",
        "p_values=pd.Series(f_p_values[1])\n",
        "p_values.index=x.columns\n",
        "p_values.round(2)\n",
        "#answer = str(round(p_values, 5))"
      ],
      "metadata": {
        "colab": {
          "base_uri": "https://localhost:8080/"
        },
        "id": "YWDzLnv2SF4m",
        "outputId": "50744d6a-ab8c-43f8-f236-64b9873ccad5"
      },
      "execution_count": 5,
      "outputs": [
        {
          "output_type": "execute_result",
          "data": {
            "text/plain": [
              " Age (yrs)               0.00\n",
              "Weight (Kg)              0.00\n",
              "Height(Cm)               0.44\n",
              "BMI                      0.00\n",
              "Blood Group              0.67\n",
              "Pulse rate(bpm)          0.27\n",
              "RR (breaths/min)         0.74\n",
              "Hb(g/dl)                 0.60\n",
              "Cycle(R/I)               0.00\n",
              "Cycle length(days)       0.01\n",
              "Marraige Status (Yrs)    0.00\n",
              "Pregnant(Y/N)            0.61\n",
              "No. of aborptions        0.09\n",
              "FSH(mIU/mL)              0.00\n",
              "LH(mIU/mL)               0.00\n",
              "FSH/LH                   0.00\n",
              "Hip(inch)                0.02\n",
              "Waist(inch)              0.02\n",
              "Waist:Hip Ratio          0.99\n",
              "TSH (mIU/L)              0.61\n",
              "AMH(ng/mL)               0.00\n",
              "PRL(ng/mL)               0.72\n",
              "Vit D3 (ng/mL)           0.00\n",
              "PRG(ng/mL)               0.00\n",
              "RBS(mg/dl)               0.03\n",
              "Weight gain(Y/N)         0.00\n",
              "hair growth(Y/N)         0.00\n",
              "Skin darkening (Y/N)     0.00\n",
              "Hair loss(Y/N)           0.00\n",
              "Pimples(Y/N)             0.00\n",
              "Fast food (Y/N)          0.00\n",
              "Reg.Exercise(Y/N)        0.19\n",
              "BP _Systolic (mmHg)      0.90\n",
              "BP _Diastolic (mmHg)     0.57\n",
              "Follicle No. (L)         0.00\n",
              "Follicle No. (R)         0.00\n",
              "Avg. F size (L) (mm)     0.00\n",
              "Avg. F size (R) (mm)     0.06\n",
              "Endometrium (mm)         0.07\n",
              "dtype: float64"
            ]
          },
          "metadata": {},
          "execution_count": 5
        }
      ]
    },
    {
      "cell_type": "code",
      "source": [
        "x = df.drop(['Sl. No',' Age (yrs)','Weight (Kg)','BMI','Cycle(R/I)','Cycle length(days)','Marraige Status (Yrs)','FSH(mIU/mL)','LH(mIU/mL)','FSH/LH','AMH(ng/mL)','Vit D3 (ng/mL)','PRG(ng/mL)','Weight gain(Y/N)','hair growth(Y/N)','Skin darkening (Y/N)','Hair loss(Y/N)','Pimples(Y/N)','Fast food (Y/N)','Follicle No. (L)','Follicle No. (R)','Patient File No.'],axis=1)\n",
        "y = df['PCOS (Y/N)']"
      ],
      "metadata": {
        "id": "v8PDZ0BxSukh"
      },
      "execution_count": 6,
      "outputs": []
    },
    {
      "cell_type": "code",
      "source": [
        "x.describe().T"
      ],
      "metadata": {
        "colab": {
          "base_uri": "https://localhost:8080/",
          "height": 676
        },
        "id": "1SridyGyL9EZ",
        "outputId": "e118dd15-10d9-4082-ea71-43335114e95a"
      },
      "execution_count": 7,
      "outputs": [
        {
          "output_type": "execute_result",
          "data": {
            "text/plain": [
              "                      count        mean        std         min         25%  \\\n",
              "PCOS (Y/N)            541.0    0.327172   0.469615    0.000000    0.000000   \n",
              "Height(Cm)            541.0  156.484835   6.033545  137.000000  152.000000   \n",
              "Blood Group           541.0   13.802218   1.840812   11.000000   13.000000   \n",
              "Pulse rate(bpm)       541.0   73.247689   4.430285   13.000000   72.000000   \n",
              "RR (breaths/min)      541.0   19.243993   1.688629   16.000000   18.000000   \n",
              "Hb(g/dl)              541.0   11.160037   0.866904    8.500000   10.500000   \n",
              "Pregnant(Y/N)         541.0    0.380776   0.486027    0.000000    0.000000   \n",
              "No. of aborptions     541.0    0.288355   0.692575    0.000000    0.000000   \n",
              "Hip(inch)             541.0   37.992606   3.967920   26.000000   36.000000   \n",
              "Waist(inch)           541.0   33.841035   3.596894   24.000000   32.000000   \n",
              "Waist:Hip Ratio       541.0    0.891895   0.046326    0.755556    0.857143   \n",
              "TSH (mIU/L)           541.0    2.981281   3.755532    0.040000    1.480000   \n",
              "PRL(ng/mL)            541.0   24.321497  14.970391    0.400000   14.520000   \n",
              "RBS(mg/dl)            541.0   99.835860  18.559298   60.000000   92.000000   \n",
              "Reg.Exercise(Y/N)     541.0    0.247689   0.432070    0.000000    0.000000   \n",
              "BP _Systolic (mmHg)   541.0  114.661738   7.384556   12.000000  110.000000   \n",
              "BP _Diastolic (mmHg)  541.0   76.927911   5.574112    8.000000   70.000000   \n",
              "Avg. F size (L) (mm)  541.0   15.018115   3.566839    0.000000   13.000000   \n",
              "Avg. F size (R) (mm)  541.0   15.451701   3.318848    0.000000   13.000000   \n",
              "Endometrium (mm)      541.0    8.475915   2.165381    0.000000    7.000000   \n",
              "\n",
              "                             50%         75%         max  \n",
              "PCOS (Y/N)              0.000000    1.000000    1.000000  \n",
              "Height(Cm)            156.000000  160.000000  180.000000  \n",
              "Blood Group            14.000000   15.000000   18.000000  \n",
              "Pulse rate(bpm)        72.000000   74.000000   82.000000  \n",
              "RR (breaths/min)       18.000000   20.000000   28.000000  \n",
              "Hb(g/dl)               11.000000   11.700000   14.800000  \n",
              "Pregnant(Y/N)           0.000000    1.000000    1.000000  \n",
              "No. of aborptions       0.000000    0.000000    5.000000  \n",
              "Hip(inch)              38.000000   40.000000   48.000000  \n",
              "Waist(inch)            34.000000   36.000000   47.000000  \n",
              "Waist:Hip Ratio         0.894737    0.928571    0.979167  \n",
              "TSH (mIU/L)             2.260000    3.570000   65.000000  \n",
              "PRL(ng/mL)             21.920000   29.890000  128.240000  \n",
              "RBS(mg/dl)            100.000000  107.000000  350.000000  \n",
              "Reg.Exercise(Y/N)       0.000000    0.000000    1.000000  \n",
              "BP _Systolic (mmHg)   110.000000  120.000000  140.000000  \n",
              "BP _Diastolic (mmHg)   80.000000   80.000000  100.000000  \n",
              "Avg. F size (L) (mm)   15.000000   18.000000   24.000000  \n",
              "Avg. F size (R) (mm)   16.000000   18.000000   24.000000  \n",
              "Endometrium (mm)        8.500000    9.800000   18.000000  "
            ],
            "text/html": [
              "\n",
              "  <div id=\"df-091adc65-0558-4e9b-b3ef-c5372292127b\">\n",
              "    <div class=\"colab-df-container\">\n",
              "      <div>\n",
              "<style scoped>\n",
              "    .dataframe tbody tr th:only-of-type {\n",
              "        vertical-align: middle;\n",
              "    }\n",
              "\n",
              "    .dataframe tbody tr th {\n",
              "        vertical-align: top;\n",
              "    }\n",
              "\n",
              "    .dataframe thead th {\n",
              "        text-align: right;\n",
              "    }\n",
              "</style>\n",
              "<table border=\"1\" class=\"dataframe\">\n",
              "  <thead>\n",
              "    <tr style=\"text-align: right;\">\n",
              "      <th></th>\n",
              "      <th>count</th>\n",
              "      <th>mean</th>\n",
              "      <th>std</th>\n",
              "      <th>min</th>\n",
              "      <th>25%</th>\n",
              "      <th>50%</th>\n",
              "      <th>75%</th>\n",
              "      <th>max</th>\n",
              "    </tr>\n",
              "  </thead>\n",
              "  <tbody>\n",
              "    <tr>\n",
              "      <th>PCOS (Y/N)</th>\n",
              "      <td>541.0</td>\n",
              "      <td>0.327172</td>\n",
              "      <td>0.469615</td>\n",
              "      <td>0.000000</td>\n",
              "      <td>0.000000</td>\n",
              "      <td>0.000000</td>\n",
              "      <td>1.000000</td>\n",
              "      <td>1.000000</td>\n",
              "    </tr>\n",
              "    <tr>\n",
              "      <th>Height(Cm)</th>\n",
              "      <td>541.0</td>\n",
              "      <td>156.484835</td>\n",
              "      <td>6.033545</td>\n",
              "      <td>137.000000</td>\n",
              "      <td>152.000000</td>\n",
              "      <td>156.000000</td>\n",
              "      <td>160.000000</td>\n",
              "      <td>180.000000</td>\n",
              "    </tr>\n",
              "    <tr>\n",
              "      <th>Blood Group</th>\n",
              "      <td>541.0</td>\n",
              "      <td>13.802218</td>\n",
              "      <td>1.840812</td>\n",
              "      <td>11.000000</td>\n",
              "      <td>13.000000</td>\n",
              "      <td>14.000000</td>\n",
              "      <td>15.000000</td>\n",
              "      <td>18.000000</td>\n",
              "    </tr>\n",
              "    <tr>\n",
              "      <th>Pulse rate(bpm)</th>\n",
              "      <td>541.0</td>\n",
              "      <td>73.247689</td>\n",
              "      <td>4.430285</td>\n",
              "      <td>13.000000</td>\n",
              "      <td>72.000000</td>\n",
              "      <td>72.000000</td>\n",
              "      <td>74.000000</td>\n",
              "      <td>82.000000</td>\n",
              "    </tr>\n",
              "    <tr>\n",
              "      <th>RR (breaths/min)</th>\n",
              "      <td>541.0</td>\n",
              "      <td>19.243993</td>\n",
              "      <td>1.688629</td>\n",
              "      <td>16.000000</td>\n",
              "      <td>18.000000</td>\n",
              "      <td>18.000000</td>\n",
              "      <td>20.000000</td>\n",
              "      <td>28.000000</td>\n",
              "    </tr>\n",
              "    <tr>\n",
              "      <th>Hb(g/dl)</th>\n",
              "      <td>541.0</td>\n",
              "      <td>11.160037</td>\n",
              "      <td>0.866904</td>\n",
              "      <td>8.500000</td>\n",
              "      <td>10.500000</td>\n",
              "      <td>11.000000</td>\n",
              "      <td>11.700000</td>\n",
              "      <td>14.800000</td>\n",
              "    </tr>\n",
              "    <tr>\n",
              "      <th>Pregnant(Y/N)</th>\n",
              "      <td>541.0</td>\n",
              "      <td>0.380776</td>\n",
              "      <td>0.486027</td>\n",
              "      <td>0.000000</td>\n",
              "      <td>0.000000</td>\n",
              "      <td>0.000000</td>\n",
              "      <td>1.000000</td>\n",
              "      <td>1.000000</td>\n",
              "    </tr>\n",
              "    <tr>\n",
              "      <th>No. of aborptions</th>\n",
              "      <td>541.0</td>\n",
              "      <td>0.288355</td>\n",
              "      <td>0.692575</td>\n",
              "      <td>0.000000</td>\n",
              "      <td>0.000000</td>\n",
              "      <td>0.000000</td>\n",
              "      <td>0.000000</td>\n",
              "      <td>5.000000</td>\n",
              "    </tr>\n",
              "    <tr>\n",
              "      <th>Hip(inch)</th>\n",
              "      <td>541.0</td>\n",
              "      <td>37.992606</td>\n",
              "      <td>3.967920</td>\n",
              "      <td>26.000000</td>\n",
              "      <td>36.000000</td>\n",
              "      <td>38.000000</td>\n",
              "      <td>40.000000</td>\n",
              "      <td>48.000000</td>\n",
              "    </tr>\n",
              "    <tr>\n",
              "      <th>Waist(inch)</th>\n",
              "      <td>541.0</td>\n",
              "      <td>33.841035</td>\n",
              "      <td>3.596894</td>\n",
              "      <td>24.000000</td>\n",
              "      <td>32.000000</td>\n",
              "      <td>34.000000</td>\n",
              "      <td>36.000000</td>\n",
              "      <td>47.000000</td>\n",
              "    </tr>\n",
              "    <tr>\n",
              "      <th>Waist:Hip Ratio</th>\n",
              "      <td>541.0</td>\n",
              "      <td>0.891895</td>\n",
              "      <td>0.046326</td>\n",
              "      <td>0.755556</td>\n",
              "      <td>0.857143</td>\n",
              "      <td>0.894737</td>\n",
              "      <td>0.928571</td>\n",
              "      <td>0.979167</td>\n",
              "    </tr>\n",
              "    <tr>\n",
              "      <th>TSH (mIU/L)</th>\n",
              "      <td>541.0</td>\n",
              "      <td>2.981281</td>\n",
              "      <td>3.755532</td>\n",
              "      <td>0.040000</td>\n",
              "      <td>1.480000</td>\n",
              "      <td>2.260000</td>\n",
              "      <td>3.570000</td>\n",
              "      <td>65.000000</td>\n",
              "    </tr>\n",
              "    <tr>\n",
              "      <th>PRL(ng/mL)</th>\n",
              "      <td>541.0</td>\n",
              "      <td>24.321497</td>\n",
              "      <td>14.970391</td>\n",
              "      <td>0.400000</td>\n",
              "      <td>14.520000</td>\n",
              "      <td>21.920000</td>\n",
              "      <td>29.890000</td>\n",
              "      <td>128.240000</td>\n",
              "    </tr>\n",
              "    <tr>\n",
              "      <th>RBS(mg/dl)</th>\n",
              "      <td>541.0</td>\n",
              "      <td>99.835860</td>\n",
              "      <td>18.559298</td>\n",
              "      <td>60.000000</td>\n",
              "      <td>92.000000</td>\n",
              "      <td>100.000000</td>\n",
              "      <td>107.000000</td>\n",
              "      <td>350.000000</td>\n",
              "    </tr>\n",
              "    <tr>\n",
              "      <th>Reg.Exercise(Y/N)</th>\n",
              "      <td>541.0</td>\n",
              "      <td>0.247689</td>\n",
              "      <td>0.432070</td>\n",
              "      <td>0.000000</td>\n",
              "      <td>0.000000</td>\n",
              "      <td>0.000000</td>\n",
              "      <td>0.000000</td>\n",
              "      <td>1.000000</td>\n",
              "    </tr>\n",
              "    <tr>\n",
              "      <th>BP _Systolic (mmHg)</th>\n",
              "      <td>541.0</td>\n",
              "      <td>114.661738</td>\n",
              "      <td>7.384556</td>\n",
              "      <td>12.000000</td>\n",
              "      <td>110.000000</td>\n",
              "      <td>110.000000</td>\n",
              "      <td>120.000000</td>\n",
              "      <td>140.000000</td>\n",
              "    </tr>\n",
              "    <tr>\n",
              "      <th>BP _Diastolic (mmHg)</th>\n",
              "      <td>541.0</td>\n",
              "      <td>76.927911</td>\n",
              "      <td>5.574112</td>\n",
              "      <td>8.000000</td>\n",
              "      <td>70.000000</td>\n",
              "      <td>80.000000</td>\n",
              "      <td>80.000000</td>\n",
              "      <td>100.000000</td>\n",
              "    </tr>\n",
              "    <tr>\n",
              "      <th>Avg. F size (L) (mm)</th>\n",
              "      <td>541.0</td>\n",
              "      <td>15.018115</td>\n",
              "      <td>3.566839</td>\n",
              "      <td>0.000000</td>\n",
              "      <td>13.000000</td>\n",
              "      <td>15.000000</td>\n",
              "      <td>18.000000</td>\n",
              "      <td>24.000000</td>\n",
              "    </tr>\n",
              "    <tr>\n",
              "      <th>Avg. F size (R) (mm)</th>\n",
              "      <td>541.0</td>\n",
              "      <td>15.451701</td>\n",
              "      <td>3.318848</td>\n",
              "      <td>0.000000</td>\n",
              "      <td>13.000000</td>\n",
              "      <td>16.000000</td>\n",
              "      <td>18.000000</td>\n",
              "      <td>24.000000</td>\n",
              "    </tr>\n",
              "    <tr>\n",
              "      <th>Endometrium (mm)</th>\n",
              "      <td>541.0</td>\n",
              "      <td>8.475915</td>\n",
              "      <td>2.165381</td>\n",
              "      <td>0.000000</td>\n",
              "      <td>7.000000</td>\n",
              "      <td>8.500000</td>\n",
              "      <td>9.800000</td>\n",
              "      <td>18.000000</td>\n",
              "    </tr>\n",
              "  </tbody>\n",
              "</table>\n",
              "</div>\n",
              "      <button class=\"colab-df-convert\" onclick=\"convertToInteractive('df-091adc65-0558-4e9b-b3ef-c5372292127b')\"\n",
              "              title=\"Convert this dataframe to an interactive table.\"\n",
              "              style=\"display:none;\">\n",
              "        \n",
              "  <svg xmlns=\"http://www.w3.org/2000/svg\" height=\"24px\"viewBox=\"0 0 24 24\"\n",
              "       width=\"24px\">\n",
              "    <path d=\"M0 0h24v24H0V0z\" fill=\"none\"/>\n",
              "    <path d=\"M18.56 5.44l.94 2.06.94-2.06 2.06-.94-2.06-.94-.94-2.06-.94 2.06-2.06.94zm-11 1L8.5 8.5l.94-2.06 2.06-.94-2.06-.94L8.5 2.5l-.94 2.06-2.06.94zm10 10l.94 2.06.94-2.06 2.06-.94-2.06-.94-.94-2.06-.94 2.06-2.06.94z\"/><path d=\"M17.41 7.96l-1.37-1.37c-.4-.4-.92-.59-1.43-.59-.52 0-1.04.2-1.43.59L10.3 9.45l-7.72 7.72c-.78.78-.78 2.05 0 2.83L4 21.41c.39.39.9.59 1.41.59.51 0 1.02-.2 1.41-.59l7.78-7.78 2.81-2.81c.8-.78.8-2.07 0-2.86zM5.41 20L4 18.59l7.72-7.72 1.47 1.35L5.41 20z\"/>\n",
              "  </svg>\n",
              "      </button>\n",
              "      \n",
              "  <style>\n",
              "    .colab-df-container {\n",
              "      display:flex;\n",
              "      flex-wrap:wrap;\n",
              "      gap: 12px;\n",
              "    }\n",
              "\n",
              "    .colab-df-convert {\n",
              "      background-color: #E8F0FE;\n",
              "      border: none;\n",
              "      border-radius: 50%;\n",
              "      cursor: pointer;\n",
              "      display: none;\n",
              "      fill: #1967D2;\n",
              "      height: 32px;\n",
              "      padding: 0 0 0 0;\n",
              "      width: 32px;\n",
              "    }\n",
              "\n",
              "    .colab-df-convert:hover {\n",
              "      background-color: #E2EBFA;\n",
              "      box-shadow: 0px 1px 2px rgba(60, 64, 67, 0.3), 0px 1px 3px 1px rgba(60, 64, 67, 0.15);\n",
              "      fill: #174EA6;\n",
              "    }\n",
              "\n",
              "    [theme=dark] .colab-df-convert {\n",
              "      background-color: #3B4455;\n",
              "      fill: #D2E3FC;\n",
              "    }\n",
              "\n",
              "    [theme=dark] .colab-df-convert:hover {\n",
              "      background-color: #434B5C;\n",
              "      box-shadow: 0px 1px 3px 1px rgba(0, 0, 0, 0.15);\n",
              "      filter: drop-shadow(0px 1px 2px rgba(0, 0, 0, 0.3));\n",
              "      fill: #FFFFFF;\n",
              "    }\n",
              "  </style>\n",
              "\n",
              "      <script>\n",
              "        const buttonEl =\n",
              "          document.querySelector('#df-091adc65-0558-4e9b-b3ef-c5372292127b button.colab-df-convert');\n",
              "        buttonEl.style.display =\n",
              "          google.colab.kernel.accessAllowed ? 'block' : 'none';\n",
              "\n",
              "        async function convertToInteractive(key) {\n",
              "          const element = document.querySelector('#df-091adc65-0558-4e9b-b3ef-c5372292127b');\n",
              "          const dataTable =\n",
              "            await google.colab.kernel.invokeFunction('convertToInteractive',\n",
              "                                                     [key], {});\n",
              "          if (!dataTable) return;\n",
              "\n",
              "          const docLinkHtml = 'Like what you see? Visit the ' +\n",
              "            '<a target=\"_blank\" href=https://colab.research.google.com/notebooks/data_table.ipynb>data table notebook</a>'\n",
              "            + ' to learn more about interactive tables.';\n",
              "          element.innerHTML = '';\n",
              "          dataTable['output_type'] = 'display_data';\n",
              "          await google.colab.output.renderOutput(dataTable, element);\n",
              "          const docLink = document.createElement('div');\n",
              "          docLink.innerHTML = docLinkHtml;\n",
              "          element.appendChild(docLink);\n",
              "        }\n",
              "      </script>\n",
              "    </div>\n",
              "  </div>\n",
              "  "
            ]
          },
          "metadata": {},
          "execution_count": 7
        }
      ]
    },
    {
      "cell_type": "markdown",
      "source": [
        "# data spliting"
      ],
      "metadata": {
        "id": "pkvPLcDkUAod"
      }
    },
    {
      "cell_type": "code",
      "execution_count": 8,
      "metadata": {
        "id": "NimDQ8wo_7Dq"
      },
      "outputs": [],
      "source": [
        "from sklearn.model_selection import train_test_split\n",
        "X_train, X_test, y_train, y_test = train_test_split( x,y,test_size=0.2,random_state=0,shuffle=True)"
      ]
    },
    {
      "cell_type": "markdown",
      "source": [
        "# ML models"
      ],
      "metadata": {
        "id": "0fvQBxN2T-1H"
      }
    },
    {
      "cell_type": "code",
      "source": [
        "from sklearn.linear_model import SGDClassifier\n",
        "import time\n",
        "from sklearn.model_selection import KFold\n",
        "from sklearn.model_selection import cross_val_score\n",
        "# create a classifier object\n",
        "reg = SGDClassifier()\n",
        "start = time.time()\n",
        "reg.fit(X_train,y_train)\n",
        "stop = time.time()\n",
        "print(f\"Training time(seconds): {stop - start}s\")\n",
        "pred = reg.predict(X_test)\n",
        "from sklearn.metrics import accuracy_score\n",
        "print('Accuracy',round(accuracy_score(y_test, pred.round()),2))\n",
        "#view mean absolute error\n",
        "cv = KFold(n_splits=10, random_state=1, shuffle=True)\n",
        "scores = cross_val_score(reg, x, y,cv=cv)\n",
        "from numpy import mean\n",
        "from numpy import absolute\n",
        "print('kfold accuracy:',mean(absolute(scores)))\n",
        "from sklearn.metrics import classification_report\n",
        "print(classification_report(y_test, pred.round()))\n",
        "import matplotlib.pyplot as plt\n",
        "import seaborn as sns\n",
        "from sklearn.metrics import confusion_matrix\n",
        "cf_matrix=confusion_matrix(y_test, pred.round())\n",
        "ax = sns.heatmap(cf_matrix, annot=True, fmt='', cmap='Blues')\n",
        "ax.xaxis.set_ticklabels(['Yes','No'])\n",
        "ax.yaxis.set_ticklabels(['Yes','No'])\n",
        "plt.tight_layout(pad=0)\n",
        "# plt.savefig('lrcm.pdf')\n",
        "plt.show()"
      ],
      "metadata": {
        "colab": {
          "base_uri": "https://localhost:8080/",
          "height": 527
        },
        "id": "XVA6dHWmQ_zC",
        "outputId": "8899dbcc-e2bd-46b7-db5d-de56df9889a4"
      },
      "execution_count": 15,
      "outputs": [
        {
          "output_type": "stream",
          "name": "stdout",
          "text": [
            "Training time(seconds): 0.004673480987548828s\n",
            "Accuracy 0.69\n",
            "kfold accuracy: 0.6097979797979798\n",
            "              precision    recall  f1-score   support\n",
            "\n",
            "           0       0.72      0.83      0.77        70\n",
            "           1       0.59      0.44      0.50        39\n",
            "\n",
            "    accuracy                           0.69       109\n",
            "   macro avg       0.66      0.63      0.64       109\n",
            "weighted avg       0.68      0.69      0.68       109\n",
            "\n"
          ]
        },
        {
          "output_type": "display_data",
          "data": {
            "text/plain": [
              "<Figure size 432x288 with 2 Axes>"
            ],
            "image/png": "[encoded data removed]"
          },
          "metadata": {
            "needs_background": "light"
          }
        }
      ]
    },
    {
      "cell_type": "markdown",
      "source": [
        "# Linear Regression"
      ],
      "metadata": {
        "id": "jAGG8OgPRK5n"
      }
    },
    {
      "cell_type": "code",
      "source": [
        "from sklearn.linear_model import LinearRegression\n",
        "from sklearn.model_selection import KFold\n",
        "from sklearn.model_selection import cross_val_score\n",
        "# create a classifier object\n",
        "reg = LinearRegression()\n",
        "start = time.time()\n",
        "reg.fit(X_train,y_train)\n",
        "stop = time.time()\n",
        "print(f\"Training time(seconds): {stop - start}s\")\n",
        "pred = reg.predict(X_test)\n",
        "from sklearn.metrics import accuracy_score\n",
        "print('Accuracy',round(accuracy_score(y_test, pred.round()),2))\n",
        "#view mean absolute error\n",
        "cv = KFold(n_splits=10, random_state=1, shuffle=True)\n",
        "scores = cross_val_score(reg, x, y,cv=cv)\n",
        "from numpy import mean\n",
        "from numpy import absolute\n",
        "print('kfold accuracy:',mean(absolute(scores)))\n",
        "from sklearn.metrics import classification_report\n",
        "print(classification_report(y_test, pred.round()))\n",
        "cf_matrix=confusion_matrix(y_test, pred.round())\n",
        "ax = sns.heatmap(cf_matrix, annot=True, fmt='', cmap='Blues')\n",
        "ax.xaxis.set_ticklabels(['Yes','No'])\n",
        "ax.yaxis.set_ticklabels(['Yes','No'])\n",
        "plt.tight_layout(pad=0)\n",
        "# plt.savefig('lrcm.pdf')\n",
        "plt.show()"
      ],
      "metadata": {
        "colab": {
          "base_uri": "https://localhost:8080/",
          "height": 527
        },
        "id": "txhFWTH4WLXE",
        "outputId": "9956a19a-9402-4a93-fa72-b10d57e29ea7"
      },
      "execution_count": 16,
      "outputs": [
        {
          "output_type": "stream",
          "name": "stdout",
          "text": [
            "Training time(seconds): 0.02477860450744629s\n",
            "Accuracy 1.0\n",
            "kfold accuracy: 1.0\n",
            "              precision    recall  f1-score   support\n",
            "\n",
            "           0       1.00      1.00      1.00        70\n",
            "           1       1.00      1.00      1.00        39\n",
            "\n",
            "    accuracy                           1.00       109\n",
            "   macro avg       1.00      1.00      1.00       109\n",
            "weighted avg       1.00      1.00      1.00       109\n",
            "\n"
          ]
        },
        {
          "output_type": "display_data",
          "data": {
            "text/plain": [
              "<Figure size 432x288 with 2 Axes>"
            ],
            "image/png": "[encoded data removed]"
          },
          "metadata": {
            "needs_background": "light"
          }
        }
      ]
    },
    {
      "cell_type": "markdown",
      "source": [
        "# Random Forest"
      ],
      "metadata": {
        "id": "h3m2GnBKRRaI"
      }
    },
    {
      "cell_type": "code",
      "source": [
        "from sklearn.ensemble import RandomForestClassifier\n",
        "from sklearn.model_selection import KFold\n",
        "from sklearn.model_selection import cross_val_score\n",
        "# create a classifier object\n",
        "reg = RandomForestClassifier(max_depth=20, random_state=0)\n",
        "start = time.time()\n",
        "reg.fit(X_train,y_train)\n",
        "stop = time.time()\n",
        "print(f\"Training time(seconds): {stop - start}s\")\n",
        "pred = reg.predict(X_test)\n",
        "from sklearn.metrics import accuracy_score\n",
        "print('Accuracy',round(accuracy_score(y_test, pred.round()),2))\n",
        "#view mean absolute error\n",
        "cv = KFold(n_splits=10, random_state=1, shuffle=True)\n",
        "scores = cross_val_score(reg, x, y,cv=cv)\n",
        "from numpy import mean\n",
        "from numpy import absolute\n",
        "print('kfold accuracy:',mean(absolute(scores)))\n",
        "from sklearn.metrics import classification_report\n",
        "print(classification_report(y_test, pred.round()))\n",
        "cf_matrix=confusion_matrix(y_test, pred.round())\n",
        "ax = sns.heatmap(cf_matrix, annot=True, fmt='', cmap='Blues')\n",
        "ax.xaxis.set_ticklabels(['Yes','No'])\n",
        "ax.yaxis.set_ticklabels(['Yes','No'])\n",
        "plt.tight_layout(pad=0)\n",
        "# plt.savefig('lrcm.pdf')\n",
        "plt.show()"
      ],
      "metadata": {
        "id": "2QmB3aYTWX7g",
        "colab": {
          "base_uri": "https://localhost:8080/",
          "height": 527
        },
        "outputId": "ee1a27ac-28a4-4f7b-a0b6-06d6369137f9"
      },
      "execution_count": 17,
      "outputs": [
        {
          "output_type": "stream",
          "name": "stdout",
          "text": [
            "Training time(seconds): 0.14715337753295898s\n",
            "Accuracy 1.0\n",
            "kfold accuracy: 1.0\n",
            "              precision    recall  f1-score   support\n",
            "\n",
            "           0       1.00      1.00      1.00        70\n",
            "           1       1.00      1.00      1.00        39\n",
            "\n",
            "    accuracy                           1.00       109\n",
            "   macro avg       1.00      1.00      1.00       109\n",
            "weighted avg       1.00      1.00      1.00       109\n",
            "\n"
          ]
        },
        {
          "output_type": "display_data",
          "data": {
            "text/plain": [
              "<Figure size 432x288 with 2 Axes>"
            ],
            "image/png": "[encoded data removed]"
          },
          "metadata": {
            "needs_background": "light"
          }
        }
      ]
    },
    {
      "cell_type": "markdown",
      "source": [
        "# Bayesian Ridge Regression"
      ],
      "metadata": {
        "id": "wm9D9o54UFbb"
      }
    },
    {
      "cell_type": "code",
      "source": [
        "from sklearn import linear_model\n",
        "from sklearn.model_selection import KFold\n",
        "from sklearn.model_selection import cross_val_score\n",
        "# create a classifier object\n",
        "reg = linear_model.BayesianRidge()\n",
        "start = time.time()\n",
        "reg.fit(X_train,y_train)\n",
        "stop = time.time()\n",
        "print(f\"Training time(seconds): {stop - start}s\")\n",
        "pred = reg.predict(X_test)\n",
        "from sklearn.metrics import accuracy_score\n",
        "print('Accuracy',round(accuracy_score(y_test, pred.round()),2))\n",
        "#view mean absolute error\n",
        "cv = KFold(n_splits=10, random_state=1, shuffle=True)\n",
        "scores = cross_val_score(reg, x, y,cv=cv)\n",
        "from numpy import mean\n",
        "from numpy import absolute\n",
        "print('kfold accuracy:',mean(absolute(scores)))\n",
        "from sklearn.metrics import classification_report\n",
        "print(classification_report(y_test, pred.round()))\n",
        "cf_matrix=confusion_matrix(y_test, pred.round())\n",
        "ax = sns.heatmap(cf_matrix, annot=True, fmt='', cmap='Blues')\n",
        "ax.xaxis.set_ticklabels(['Yes','No'])\n",
        "ax.yaxis.set_ticklabels(['Yes','No'])\n",
        "plt.tight_layout(pad=0)\n",
        "# plt.savefig('lrcm.pdf')\n",
        "plt.show()"
      ],
      "metadata": {
        "id": "w73OiJMzUZjc",
        "colab": {
          "base_uri": "https://localhost:8080/",
          "height": 527
        },
        "outputId": "749a9a58-767c-4005-a096-2f5166d56c62"
      },
      "execution_count": 18,
      "outputs": [
        {
          "output_type": "stream",
          "name": "stdout",
          "text": [
            "Training time(seconds): 0.004280567169189453s\n",
            "Accuracy 1.0\n",
            "kfold accuracy: 1.0\n",
            "              precision    recall  f1-score   support\n",
            "\n",
            "           0       1.00      1.00      1.00        70\n",
            "           1       1.00      1.00      1.00        39\n",
            "\n",
            "    accuracy                           1.00       109\n",
            "   macro avg       1.00      1.00      1.00       109\n",
            "weighted avg       1.00      1.00      1.00       109\n",
            "\n"
          ]
        },
        {
          "output_type": "display_data",
          "data": {
            "text/plain": [
              "<Figure size 432x288 with 2 Axes>"
            ],
            "image/png": "[encoded data removed]"
          },
          "metadata": {
            "needs_background": "light"
          }
        }
      ]
    },
    {
      "cell_type": "markdown",
      "source": [
        "# SVM"
      ],
      "metadata": {
        "id": "VD8o7lSGZGbp"
      }
    },
    {
      "cell_type": "code",
      "source": [
        "from sklearn import svm\n",
        "from sklearn.model_selection import KFold\n",
        "from sklearn.model_selection import cross_val_score\n",
        "# create a classifier object\n",
        "reg = svm.SVC(kernel='linear')\n",
        "start = time.time()\n",
        "reg.fit(X_train,y_train)\n",
        "stop = time.time()\n",
        "print(f\"Training time(seconds): {stop - start}s\")\n",
        "pred = reg.predict(X_test)\n",
        "from sklearn.metrics import accuracy_score\n",
        "print('Accuracy',round(accuracy_score(y_test, pred.round()),2))\n",
        "#view mean absolute error\n",
        "cv = KFold(n_splits=10, random_state=1, shuffle=True)\n",
        "scores = cross_val_score(reg, x, y,cv=cv)\n",
        "from numpy import mean\n",
        "from numpy import absolute\n",
        "print('kfold accuracy:',mean(absolute(scores)))\n",
        "from sklearn.metrics import classification_report\n",
        "print(classification_report(y_test, pred.round()))\n",
        "cf_matrix=confusion_matrix(y_test, pred.round())\n",
        "ax = sns.heatmap(cf_matrix, annot=True, fmt='', cmap='Blues')\n",
        "ax.xaxis.set_ticklabels(['Yes','No'])\n",
        "ax.yaxis.set_ticklabels(['Yes','No'])\n",
        "plt.tight_layout(pad=0)\n",
        "# plt.savefig('lrcm.pdf')\n",
        "plt.show()"
      ],
      "metadata": {
        "id": "geS2fMeWUZdz",
        "colab": {
          "base_uri": "https://localhost:8080/",
          "height": 527
        },
        "outputId": "9a60d93b-fb57-4eb3-d1ef-9345a49508e8"
      },
      "execution_count": 19,
      "outputs": [
        {
          "output_type": "stream",
          "name": "stdout",
          "text": [
            "Training time(seconds): 0.842869758605957s\n",
            "Accuracy 1.0\n",
            "kfold accuracy: 1.0\n",
            "              precision    recall  f1-score   support\n",
            "\n",
            "           0       1.00      1.00      1.00        70\n",
            "           1       1.00      1.00      1.00        39\n",
            "\n",
            "    accuracy                           1.00       109\n",
            "   macro avg       1.00      1.00      1.00       109\n",
            "weighted avg       1.00      1.00      1.00       109\n",
            "\n"
          ]
        },
        {
          "output_type": "display_data",
          "data": {
            "text/plain": [
              "<Figure size 432x288 with 2 Axes>"
            ],
            "image/png": "[encoded data removed]"
          },
          "metadata": {
            "needs_background": "light"
          }
        }
      ]
    },
    {
      "cell_type": "markdown",
      "source": [
        "# KNeighbour Regression"
      ],
      "metadata": {
        "id": "7RKw-SBUa2Gb"
      }
    },
    {
      "cell_type": "code",
      "source": [
        "from sklearn.neighbors import KNeighborsClassifier\n",
        "from sklearn.model_selection import KFold\n",
        "from sklearn.model_selection import cross_val_score\n",
        "# create a classifier object\n",
        "reg = KNeighborsClassifier()\n",
        "start = time.time()\n",
        "reg.fit(X_train,y_train)\n",
        "stop = time.time()\n",
        "print(f\"Training time(seconds): {stop - start}s\")\n",
        "pred = reg.predict(X_test)\n",
        "from sklearn.metrics import accuracy_score\n",
        "print('Accuracy',round(accuracy_score(y_test, pred.round()),2))\n",
        "#view mean absolute error\n",
        "cv = KFold(n_splits=10, random_state=1, shuffle=True)\n",
        "scores = cross_val_score(reg, x, y,cv=cv)\n",
        "from numpy import mean\n",
        "from numpy import absolute\n",
        "print('kfold accuracy:',mean(absolute(scores)))\n",
        "from sklearn.metrics import classification_report\n",
        "print(classification_report(y_test, pred.round()))\n",
        "cf_matrix=confusion_matrix(y_test, pred.round())\n",
        "ax = sns.heatmap(cf_matrix, annot=True, fmt='', cmap='Blues')\n",
        "ax.xaxis.set_ticklabels(['Yes','No'])\n",
        "ax.yaxis.set_ticklabels(['Yes','No'])\n",
        "plt.tight_layout(pad=0)\n",
        "# plt.savefig('lrcm.pdf')\n",
        "plt.show()"
      ],
      "metadata": {
        "id": "IqieNTSyUZU1",
        "colab": {
          "base_uri": "https://localhost:8080/",
          "height": 527
        },
        "outputId": "c6dc34c8-bff2-4853-a842-23f7c66e2063"
      },
      "execution_count": 21,
      "outputs": [
        {
          "output_type": "stream",
          "name": "stdout",
          "text": [
            "Training time(seconds): 0.002378702163696289s\n",
            "Accuracy 0.56\n",
            "kfold accuracy: 0.6064309764309764\n",
            "              precision    recall  f1-score   support\n",
            "\n",
            "           0       0.63      0.74      0.68        70\n",
            "           1       0.33      0.23      0.27        39\n",
            "\n",
            "    accuracy                           0.56       109\n",
            "   macro avg       0.48      0.49      0.48       109\n",
            "weighted avg       0.53      0.56      0.54       109\n",
            "\n"
          ]
        },
        {
          "output_type": "display_data",
          "data": {
            "text/plain": [
              "<Figure size 432x288 with 2 Axes>"
            ],
            "image/png": "[encoded data removed]"
          },
          "metadata": {
            "needs_background": "light"
          }
        }
      ]
    },
    {
      "cell_type": "markdown",
      "source": [
        "# Neural Networks(MLPClassifier)"
      ],
      "metadata": {
        "id": "qIJjBXGwc_mk"
      }
    },
    {
      "cell_type": "code",
      "source": [
        "from sklearn.neural_network import MLPClassifier\n",
        "from sklearn.model_selection import KFold\n",
        "from sklearn.model_selection import cross_val_score\n",
        "# create a classifier object\n",
        "reg = MLPClassifier()\n",
        "start = time.time()\n",
        "reg.fit(X_train,y_train)\n",
        "stop = time.time()\n",
        "print(f\"Training time(seconds): {stop - start}s\")\n",
        "pred = reg.predict(X_test)\n",
        "from sklearn.metrics import accuracy_score\n",
        "print('Accuracy',round(accuracy_score(y_test, pred.round()),2))\n",
        "#view mean absolute error\n",
        "cv = KFold(n_splits=10, random_state=1, shuffle=True)\n",
        "scores = cross_val_score(reg, x, y,cv=cv)\n",
        "from numpy import mean\n",
        "from numpy import absolute\n",
        "print('kfold accuracy:',mean(absolute(scores)))\n",
        "from sklearn.metrics import classification_report\n",
        "print(classification_report(y_test, pred.round()))\n",
        "cf_matrix=confusion_matrix(y_test, pred.round())\n",
        "ax = sns.heatmap(cf_matrix, annot=True, fmt='', cmap='Blues')\n",
        "ax.xaxis.set_ticklabels(['Yes','No'])\n",
        "ax.yaxis.set_ticklabels(['Yes','No'])\n",
        "plt.tight_layout(pad=0)\n",
        "# plt.savefig('lrcm.pdf')\n",
        "plt.show()"
      ],
      "metadata": {
        "colab": {
          "base_uri": "https://localhost:8080/",
          "height": 527
        },
        "id": "ScwAoievdFMU",
        "outputId": "d7d09444-a136-4dac-979f-69b8a61eb5b9"
      },
      "execution_count": 22,
      "outputs": [
        {
          "output_type": "stream",
          "name": "stdout",
          "text": [
            "Training time(seconds): 0.592132568359375s\n",
            "Accuracy 0.99\n",
            "kfold accuracy: 0.9851851851851852\n",
            "              precision    recall  f1-score   support\n",
            "\n",
            "           0       1.00      0.99      0.99        70\n",
            "           1       0.97      1.00      0.99        39\n",
            "\n",
            "    accuracy                           0.99       109\n",
            "   macro avg       0.99      0.99      0.99       109\n",
            "weighted avg       0.99      0.99      0.99       109\n",
            "\n"
          ]
        },
        {
          "output_type": "display_data",
          "data": {
            "text/plain": [
              "<Figure size 432x288 with 2 Axes>"
            ],
            "image/png": "[encoded data removed]"
          },
          "metadata": {
            "needs_background": "light"
          }
        }
      ]
    },
    {
      "cell_type": "markdown",
      "source": [
        "# Logistic Regression"
      ],
      "metadata": {
        "id": "wEcGh3RXd94C"
      }
    },
    {
      "cell_type": "code",
      "source": [
        "from sklearn.linear_model import LogisticRegression\n",
        "from sklearn.model_selection import KFold\n",
        "from sklearn.model_selection import cross_val_score\n",
        "# create a classifier object\n",
        "reg = LogisticRegression(random_state=0)\n",
        "start = time.time()\n",
        "reg.fit(X_train,y_train)\n",
        "stop = time.time()\n",
        "print(f\"Training time(seconds): {stop - start}s\")\n",
        "pred = reg.predict(X_test)\n",
        "from sklearn.metrics import accuracy_score\n",
        "print('Accuracy',round(accuracy_score(y_test, pred.round()),2))\n",
        "#view mean absolute error\n",
        "cv = KFold(n_splits=10, random_state=1, shuffle=True)\n",
        "scores = cross_val_score(reg, x, y,cv=cv)\n",
        "from numpy import mean\n",
        "from numpy import absolute\n",
        "print('kfold accuracy:',mean(absolute(scores)))\n",
        "from sklearn.metrics import classification_report\n",
        "print(classification_report(y_test, pred.round()))\n",
        "cf_matrix=confusion_matrix(y_test, pred.round())\n",
        "ax = sns.heatmap(cf_matrix, annot=True, fmt='', cmap='Blues')\n",
        "ax.xaxis.set_ticklabels(['Yes','No'])\n",
        "ax.yaxis.set_ticklabels(['Yes','No'])\n",
        "plt.tight_layout(pad=0)\n",
        "# plt.savefig('lrcm.pdf')\n",
        "plt.show()"
      ],
      "metadata": {
        "colab": {
          "base_uri": "https://localhost:8080/",
          "height": 527
        },
        "id": "KND8ZoF-eH-Y",
        "outputId": "08feccec-f606-4435-8156-357c13118598"
      },
      "execution_count": 23,
      "outputs": [
        {
          "output_type": "stream",
          "name": "stdout",
          "text": [
            "Training time(seconds): 0.025332212448120117s\n",
            "Accuracy 1.0\n",
            "kfold accuracy: 1.0\n",
            "              precision    recall  f1-score   support\n",
            "\n",
            "           0       1.00      1.00      1.00        70\n",
            "           1       1.00      1.00      1.00        39\n",
            "\n",
            "    accuracy                           1.00       109\n",
            "   macro avg       1.00      1.00      1.00       109\n",
            "weighted avg       1.00      1.00      1.00       109\n",
            "\n"
          ]
        },
        {
          "output_type": "display_data",
          "data": {
            "text/plain": [
              "<Figure size 432x288 with 2 Axes>"
            ],
            "image/png": "[encoded data removed]"
          },
          "metadata": {
            "needs_background": "light"
          }
        }
      ]
    },
    {
      "cell_type": "markdown",
      "source": [
        "# Gaussian Naïve Bayes"
      ],
      "metadata": {
        "id": "ipKXLYVTgDAe"
      }
    },
    {
      "cell_type": "code",
      "source": [
        "from sklearn.naive_bayes import GaussianNB\n",
        "from sklearn.model_selection import KFold\n",
        "from sklearn.model_selection import cross_val_score\n",
        "# create a classifier object\n",
        "reg = GaussianNB()\n",
        "start = time.time()\n",
        "reg.fit(X_train,y_train)\n",
        "stop = time.time()\n",
        "print(f\"Training time(seconds): {stop - start}s\")\n",
        "pred = reg.predict(X_test)\n",
        "from sklearn.metrics import accuracy_score\n",
        "print('Accuracy',round(accuracy_score(y_test, pred.round()),2))\n",
        "#view mean absolute error\n",
        "cv = KFold(n_splits=10, random_state=1, shuffle=True)\n",
        "scores = cross_val_score(reg, x, y,cv=cv)\n",
        "from numpy import mean\n",
        "from numpy import absolute\n",
        "print('kfold accuracy:',mean(absolute(scores)))\n",
        "from sklearn.metrics import classification_report\n",
        "print(classification_report(y_test, pred.round()))\n",
        "cf_matrix=confusion_matrix(y_test, pred.round())\n",
        "ax = sns.heatmap(cf_matrix, annot=True, fmt='', cmap='Blues')\n",
        "ax.xaxis.set_ticklabels(['Yes','No'])\n",
        "ax.yaxis.set_ticklabels(['Yes','No'])\n",
        "plt.tight_layout(pad=0)\n",
        "# plt.savefig('lrcm.pdf')\n",
        "plt.show()"
      ],
      "metadata": {
        "colab": {
          "base_uri": "https://localhost:8080/",
          "height": 527
        },
        "id": "c7vAVoDcgG7r",
        "outputId": "01869f43-9077-40b1-f58c-693cd87a52c3"
      },
      "execution_count": 24,
      "outputs": [
        {
          "output_type": "stream",
          "name": "stdout",
          "text": [
            "Training time(seconds): 0.002892732620239258s\n",
            "Accuracy 1.0\n",
            "kfold accuracy: 1.0\n",
            "              precision    recall  f1-score   support\n",
            "\n",
            "           0       1.00      1.00      1.00        70\n",
            "           1       1.00      1.00      1.00        39\n",
            "\n",
            "    accuracy                           1.00       109\n",
            "   macro avg       1.00      1.00      1.00       109\n",
            "weighted avg       1.00      1.00      1.00       109\n",
            "\n"
          ]
        },
        {
          "output_type": "display_data",
          "data": {
            "text/plain": [
              "<Figure size 432x288 with 2 Axes>"
            ],
            "image/png": "[encoded data removed]"
          },
          "metadata": {
            "needs_background": "light"
          }
        }
      ]
    },
    {
      "cell_type": "markdown",
      "source": [
        "# Gradient Boosting Regressor"
      ],
      "metadata": {
        "id": "ei9ZYx-ewaZN"
      }
    },
    {
      "cell_type": "code",
      "source": [
        "from sklearn.ensemble import GradientBoostingClassifier\n",
        "from sklearn.model_selection import KFold\n",
        "from sklearn.model_selection import cross_val_score\n",
        "# create a classifier object\n",
        "reg = GradientBoostingClassifier(random_state=0)\n",
        "start = time.time()\n",
        "reg.fit(X_train,y_train)\n",
        "stop = time.time()\n",
        "print(f\"Training time(seconds): {stop - start}s\")\n",
        "pred = reg.predict(X_test)\n",
        "from sklearn.metrics import accuracy_score\n",
        "print('Accuracy',round(accuracy_score(y_test, pred.round()),2))\n",
        "#view mean absolute error\n",
        "cv = KFold(n_splits=10, random_state=1, shuffle=True)\n",
        "scores = cross_val_score(reg, x, y,cv=cv)\n",
        "from numpy import mean\n",
        "from numpy import absolute\n",
        "print('kfold accuracy:',mean(absolute(scores)))\n",
        "from sklearn.metrics import classification_report\n",
        "print(classification_report(y_test, pred.round()))\n",
        "cf_matrix=confusion_matrix(y_test, pred.round())\n",
        "ax = sns.heatmap(cf_matrix, annot=True, fmt='', cmap='Blues')\n",
        "ax.xaxis.set_ticklabels(['Yes','No'])\n",
        "ax.yaxis.set_ticklabels(['Yes','No'])\n",
        "plt.tight_layout(pad=0)\n",
        "# plt.savefig('lrcm.pdf')\n",
        "plt.show()"
      ],
      "metadata": {
        "colab": {
          "base_uri": "https://localhost:8080/",
          "height": 527
        },
        "id": "4N5wh-rR16dl",
        "outputId": "908a9a21-93db-4b18-f101-54d477c40649"
      },
      "execution_count": 25,
      "outputs": [
        {
          "output_type": "stream",
          "name": "stdout",
          "text": [
            "Training time(seconds): 0.07144379615783691s\n",
            "Accuracy 1.0\n",
            "kfold accuracy: 1.0\n",
            "              precision    recall  f1-score   support\n",
            "\n",
            "           0       1.00      1.00      1.00        70\n",
            "           1       1.00      1.00      1.00        39\n",
            "\n",
            "    accuracy                           1.00       109\n",
            "   macro avg       1.00      1.00      1.00       109\n",
            "weighted avg       1.00      1.00      1.00       109\n",
            "\n"
          ]
        },
        {
          "output_type": "display_data",
          "data": {
            "text/plain": [
              "<Figure size 432x288 with 2 Axes>"
            ],
            "image/png": "[encoded data removed]"
          },
          "metadata": {
            "needs_background": "light"
          }
        }
      ]
    }
  ],
  "metadata": {
    "colab": {
      "name": "PCOs all models with chi2 test.ipynb",
      "provenance": [],
      "collapsed_sections": []
    },
    "kernelspec": {
      "display_name": "Python 3",
      "name": "python3"
    },
    "language_info": {
      "name": "python"
    }
  },
  "nbformat": 4,
  "nbformat_minor": 0
}