{
  "cells": [
    {
      "cell_type": "markdown",
      "id": "6b77a2fe",
      "metadata": {
        "id": "6b77a2fe"
      },
      "source": [
        "### Multi-Class RNN+GRU"
      ]
    },
    {
      "cell_type": "code",
      "execution_count": null,
      "id": "2ca84f18",
      "metadata": {
        "id": "2ca84f18"
      },
      "outputs": [],
      "source": [
        "import pandas as pd\n",
        "import matplotlib.pyplot as plt\n",
        "import warnings\n",
        "from sklearn.metrics import classification_report, f1_score, precision_score, recall_score\n",
        "import seaborn as sns\n",
        "# from keras.utils import to_categorical\n",
        "from tensorflow.keras.utils import to_categorical\n",
        "from tensorflow.keras.layers import Embedding, Dense, SimpleRNN, GRU, Dropout,Bidirectional\n",
        "from tensorflow.keras.models import Sequential\n",
        "from sklearn.preprocessing import LabelEncoder\n",
        "from sklearn.model_selection import train_test_split\n",
        "from tensorflow.keras.preprocessing.text import one_hot\n",
        "from tensorflow.keras.preprocessing.sequence import pad_sequences\n",
        "import numpy as np\n",
        "warnings.filterwarnings(\"ignore\")"
      ]
    },
    {
      "cell_type": "code",
      "execution_count": null,
      "id": "4466d4a2",
      "metadata": {
        "id": "4466d4a2"
      },
      "outputs": [],
      "source": [
        "df = pd.read_csv(r'/content/classification_in_asteroseismology.csv')"
      ]
    },
    {
      "cell_type": "code",
      "source": [
        "df.head()"
      ],
      "metadata": {
        "colab": {
          "base_uri": "https://localhost:8080/",
          "height": 206
        },
        "id": "R8NcIb0yc-Od",
        "outputId": "4e2e0ab6-b505-43d4-b4b3-05fa81de6fca"
      },
      "id": "R8NcIb0yc-Od",
      "execution_count": null,
      "outputs": [
        {
          "output_type": "execute_result",
          "data": {
            "text/html": [
              "\n",
              "  <div id=\"df-e7776984-db54-4d94-bcda-4cfe122ae3d7\">\n",
              "    <div class=\"colab-df-container\">\n",
              "      <div>\n",
              "<style scoped>\n",
              "    .dataframe tbody tr th:only-of-type {\n",
              "        vertical-align: middle;\n",
              "    }\n",
              "\n",
              "    .dataframe tbody tr th {\n",
              "        vertical-align: top;\n",
              "    }\n",
              "\n",
              "    .dataframe thead th {\n",
              "        text-align: right;\n",
              "    }\n",
              "</style>\n",
              "<table border=\"1\" class=\"dataframe\">\n",
              "  <thead>\n",
              "    <tr style=\"text-align: right;\">\n",
              "      <th></th>\n",
              "      <th>POP</th>\n",
              "      <th>Dnu</th>\n",
              "      <th>numax</th>\n",
              "      <th>epsilon</th>\n",
              "    </tr>\n",
              "  </thead>\n",
              "  <tbody>\n",
              "    <tr>\n",
              "      <th>0</th>\n",
              "      <td>1</td>\n",
              "      <td>4.44780</td>\n",
              "      <td>43.06289</td>\n",
              "      <td>0.985</td>\n",
              "    </tr>\n",
              "    <tr>\n",
              "      <th>1</th>\n",
              "      <td>0</td>\n",
              "      <td>6.94399</td>\n",
              "      <td>74.07646</td>\n",
              "      <td>0.150</td>\n",
              "    </tr>\n",
              "    <tr>\n",
              "      <th>2</th>\n",
              "      <td>1</td>\n",
              "      <td>2.64571</td>\n",
              "      <td>21.57891</td>\n",
              "      <td>0.855</td>\n",
              "    </tr>\n",
              "    <tr>\n",
              "      <th>3</th>\n",
              "      <td>1</td>\n",
              "      <td>4.24168</td>\n",
              "      <td>32.13189</td>\n",
              "      <td>0.840</td>\n",
              "    </tr>\n",
              "    <tr>\n",
              "      <th>4</th>\n",
              "      <td>0</td>\n",
              "      <td>10.44719</td>\n",
              "      <td>120.37356</td>\n",
              "      <td>0.275</td>\n",
              "    </tr>\n",
              "  </tbody>\n",
              "</table>\n",
              "</div>\n",
              "      <button class=\"colab-df-convert\" onclick=\"convertToInteractive('df-e7776984-db54-4d94-bcda-4cfe122ae3d7')\"\n",
              "              title=\"Convert this dataframe to an interactive table.\"\n",
              "              style=\"display:none;\">\n",
              "        \n",
              "  <svg xmlns=\"http://www.w3.org/2000/svg\" height=\"24px\"viewBox=\"0 0 24 24\"\n",
              "       width=\"24px\">\n",
              "    <path d=\"M0 0h24v24H0V0z\" fill=\"none\"/>\n",
              "    <path d=\"M18.56 5.44l.94 2.06.94-2.06 2.06-.94-2.06-.94-.94-2.06-.94 2.06-2.06.94zm-11 1L8.5 8.5l.94-2.06 2.06-.94-2.06-.94L8.5 2.5l-.94 2.06-2.06.94zm10 10l.94 2.06.94-2.06 2.06-.94-2.06-.94-.94-2.06-.94 2.06-2.06.94z\"/><path d=\"M17.41 7.96l-1.37-1.37c-.4-.4-.92-.59-1.43-.59-.52 0-1.04.2-1.43.59L10.3 9.45l-7.72 7.72c-.78.78-.78 2.05 0 2.83L4 21.41c.39.39.9.59 1.41.59.51 0 1.02-.2 1.41-.59l7.78-7.78 2.81-2.81c.8-.78.8-2.07 0-2.86zM5.41 20L4 18.59l7.72-7.72 1.47 1.35L5.41 20z\"/>\n",
              "  </svg>\n",
              "      </button>\n",
              "      \n",
              "  <style>\n",
              "    .colab-df-container {\n",
              "      display:flex;\n",
              "      flex-wrap:wrap;\n",
              "      gap: 12px;\n",
              "    }\n",
              "\n",
              "    .colab-df-convert {\n",
              "      background-color: #E8F0FE;\n",
              "      border: none;\n",
              "      border-radius: 50%;\n",
              "      cursor: pointer;\n",
              "      display: none;\n",
              "      fill: #1967D2;\n",
              "      height: 32px;\n",
              "      padding: 0 0 0 0;\n",
              "      width: 32px;\n",
              "    }\n",
              "\n",
              "    .colab-df-convert:hover {\n",
              "      background-color: #E2EBFA;\n",
              "      box-shadow: 0px 1px 2px rgba(60, 64, 67, 0.3), 0px 1px 3px 1px rgba(60, 64, 67, 0.15);\n",
              "      fill: #174EA6;\n",
              "    }\n",
              "\n",
              "    [theme=dark] .colab-df-convert {\n",
              "      background-color: #3B4455;\n",
              "      fill: #D2E3FC;\n",
              "    }\n",
              "\n",
              "    [theme=dark] .colab-df-convert:hover {\n",
              "      background-color: #434B5C;\n",
              "      box-shadow: 0px 1px 3px 1px rgba(0, 0, 0, 0.15);\n",
              "      filter: drop-shadow(0px 1px 2px rgba(0, 0, 0, 0.3));\n",
              "      fill: #FFFFFF;\n",
              "    }\n",
              "  </style>\n",
              "\n",
              "      <script>\n",
              "        const buttonEl =\n",
              "          document.querySelector('#df-e7776984-db54-4d94-bcda-4cfe122ae3d7 button.colab-df-convert');\n",
              "        buttonEl.style.display =\n",
              "          google.colab.kernel.accessAllowed ? 'block' : 'none';\n",
              "\n",
              "        async function convertToInteractive(key) {\n",
              "          const element = document.querySelector('#df-e7776984-db54-4d94-bcda-4cfe122ae3d7');\n",
              "          const dataTable =\n",
              "            await google.colab.kernel.invokeFunction('convertToInteractive',\n",
              "                                                     [key], {});\n",
              "          if (!dataTable) return;\n",
              "\n",
              "          const docLinkHtml = 'Like what you see? Visit the ' +\n",
              "            '<a target=\"_blank\" href=https://colab.research.google.com/notebooks/data_table.ipynb>data table notebook</a>'\n",
              "            + ' to learn more about interactive tables.';\n",
              "          element.innerHTML = '';\n",
              "          dataTable['output_type'] = 'display_data';\n",
              "          await google.colab.output.renderOutput(dataTable, element);\n",
              "          const docLink = document.createElement('div');\n",
              "          docLink.innerHTML = docLinkHtml;\n",
              "          element.appendChild(docLink);\n",
              "        }\n",
              "      </script>\n",
              "    </div>\n",
              "  </div>\n",
              "  "
            ],
            "text/plain": [
              "   POP       Dnu      numax  epsilon\n",
              "0    1   4.44780   43.06289    0.985\n",
              "1    0   6.94399   74.07646    0.150\n",
              "2    1   2.64571   21.57891    0.855\n",
              "3    1   4.24168   32.13189    0.840\n",
              "4    0  10.44719  120.37356    0.275"
            ]
          },
          "metadata": {},
          "execution_count": 4
        }
      ]
    },
    {
      "cell_type": "code",
      "execution_count": null,
      "id": "73d8e3eb",
      "metadata": {
        "id": "73d8e3eb"
      },
      "outputs": [],
      "source": [
        "x = df.drop('POP', axis=1)\n",
        "y = df.POP\n",
        "X_train, X_test, Y_train, Y_test = train_test_split(x,y, test_size = 0.2, random_state = 42)"
      ]
    },
    {
      "cell_type": "code",
      "execution_count": null,
      "id": "78c041aa",
      "metadata": {
        "id": "78c041aa"
      },
      "outputs": [],
      "source": [
        "from tensorflow.keras.optimizers import Adam\n",
        "opt = Adam(learning_rate=0.001)\n",
        "vocab_size = 50000"
      ]
    },
    {
      "cell_type": "code",
      "execution_count": null,
      "id": "25e7367d",
      "metadata": {
        "id": "25e7367d"
      },
      "outputs": [],
      "source": [
        "model = Sequential()\n",
        "model.add(Embedding(input_dim=vocab_size,output_dim = 64,input_length=3))\n",
        "model.add(Bidirectional(GRU(512,return_sequences=True)))\n",
        "model.add(SimpleRNN(1026))\n",
        "model.add(Dense(512,activation = 'relu'))\n",
        "model.add(Dense(512,activation = 'relu'))\n",
        "model.add(Dense(128,activation = 'relu'))\n",
        "model.add(Dense(128,activation = 'relu'))\n",
        "model.add(Dense(64,activation = 'relu'))\n",
        "model.add(Dense(64,activation = 'relu'))\n",
        "model.add(Dense(32,activation = 'relu'))\n",
        "model.add(Dense(32,activation = 'relu'))\n",
        "# model.add(Dropout(0.02))\n",
        "model.add(Dense(1,activation = 'sigmoid'))\n",
        "model.compile(loss = 'binary_crossentropy',optimizer = opt,metrics=['accuracy'])"
      ]
    },
    {
      "cell_type": "code",
      "execution_count": null,
      "id": "f86758d2",
      "metadata": {
        "id": "f86758d2",
        "outputId": "0180553b-0011-4e8b-b4b6-9fe57880fc6d",
        "colab": {
          "base_uri": "https://localhost:8080/"
        }
      },
      "outputs": [
        {
          "output_type": "stream",
          "name": "stdout",
          "text": [
            "Model: \"sequential_1\"\n",
            "_________________________________________________________________\n",
            " Layer (type)                Output Shape              Param #   \n",
            "=================================================================\n",
            " embedding_1 (Embedding)     (None, 3, 64)             3200000   \n",
            "                                                                 \n",
            " bidirectional_1 (Bidirectio  (None, 3, 1024)          1775616   \n",
            " nal)                                                            \n",
            "                                                                 \n",
            " simple_rnn_1 (SimpleRNN)    (None, 1026)              2104326   \n",
            "                                                                 \n",
            " dense_2 (Dense)             (None, 512)               525824    \n",
            "                                                                 \n",
            " dense_3 (Dense)             (None, 512)               262656    \n",
            "                                                                 \n",
            " dense_4 (Dense)             (None, 128)               65664     \n",
            "                                                                 \n",
            " dense_5 (Dense)             (None, 128)               16512     \n",
            "                                                                 \n",
            " dense_6 (Dense)             (None, 64)                8256      \n",
            "                                                                 \n",
            " dense_7 (Dense)             (None, 64)                4160      \n",
            "                                                                 \n",
            " dense_8 (Dense)             (None, 32)                2080      \n",
            "                                                                 \n",
            " dense_9 (Dense)             (None, 32)                1056      \n",
            "                                                                 \n",
            " dense_10 (Dense)            (None, 1)                 33        \n",
            "                                                                 \n",
            "=================================================================\n",
            "Total params: 7,966,183\n",
            "Trainable params: 7,966,183\n",
            "Non-trainable params: 0\n",
            "_________________________________________________________________\n"
          ]
        }
      ],
      "source": [
        "model.summary()"
      ]
    },
    {
      "cell_type": "code",
      "execution_count": null,
      "id": "fce3d948",
      "metadata": {
        "id": "fce3d948",
        "outputId": "5953b989-66cf-4f49-9d4d-84d16dd8996c",
        "colab": {
          "base_uri": "https://localhost:8080/"
        }
      },
      "outputs": [
        {
          "output_type": "stream",
          "name": "stdout",
          "text": [
            "Epoch 1/20\n",
            "23/23 [==============================] - 10s 214ms/step - loss: 0.4574 - accuracy: 0.7792 - val_loss: 0.2926 - val_accuracy: 0.9375\n",
            "Epoch 2/20\n",
            "23/23 [==============================] - 4s 160ms/step - loss: 0.2485 - accuracy: 0.9069 - val_loss: 0.2166 - val_accuracy: 0.9375\n",
            "Epoch 3/20\n",
            "23/23 [==============================] - 4s 160ms/step - loss: 0.2497 - accuracy: 0.9125 - val_loss: 0.1508 - val_accuracy: 0.9250\n",
            "Epoch 4/20\n",
            "23/23 [==============================] - 4s 172ms/step - loss: 0.1936 - accuracy: 0.9292 - val_loss: 0.1652 - val_accuracy: 0.9375\n",
            "Epoch 5/20\n",
            "23/23 [==============================] - 4s 165ms/step - loss: 0.1786 - accuracy: 0.9194 - val_loss: 0.1566 - val_accuracy: 0.9375\n",
            "Epoch 6/20\n",
            "23/23 [==============================] - 4s 162ms/step - loss: 0.1993 - accuracy: 0.9208 - val_loss: 0.1744 - val_accuracy: 0.9125\n",
            "Epoch 7/20\n",
            "23/23 [==============================] - 4s 162ms/step - loss: 0.2078 - accuracy: 0.9139 - val_loss: 0.1576 - val_accuracy: 0.9375\n",
            "Epoch 8/20\n",
            "23/23 [==============================] - 4s 164ms/step - loss: 0.1621 - accuracy: 0.9347 - val_loss: 0.1861 - val_accuracy: 0.9250\n",
            "Epoch 9/20\n",
            "23/23 [==============================] - 4s 165ms/step - loss: 0.1581 - accuracy: 0.9361 - val_loss: 0.1593 - val_accuracy: 0.9375\n",
            "Epoch 10/20\n",
            "23/23 [==============================] - 4s 164ms/step - loss: 0.1471 - accuracy: 0.9361 - val_loss: 0.1833 - val_accuracy: 0.9375\n",
            "Epoch 11/20\n",
            "23/23 [==============================] - 4s 164ms/step - loss: 0.1493 - accuracy: 0.9389 - val_loss: 0.1728 - val_accuracy: 0.9375\n",
            "Epoch 12/20\n",
            "23/23 [==============================] - 4s 189ms/step - loss: 0.1793 - accuracy: 0.9347 - val_loss: 0.1828 - val_accuracy: 0.9375\n",
            "Epoch 13/20\n",
            "23/23 [==============================] - 4s 162ms/step - loss: 0.1760 - accuracy: 0.9333 - val_loss: 0.2089 - val_accuracy: 0.9250\n",
            "Epoch 14/20\n",
            "23/23 [==============================] - 4s 159ms/step - loss: 0.1562 - accuracy: 0.9361 - val_loss: 0.2254 - val_accuracy: 0.9250\n",
            "Epoch 15/20\n",
            "23/23 [==============================] - 4s 163ms/step - loss: 0.1591 - accuracy: 0.9389 - val_loss: 0.1766 - val_accuracy: 0.9375\n",
            "Epoch 16/20\n",
            "23/23 [==============================] - 4s 160ms/step - loss: 0.1674 - accuracy: 0.9319 - val_loss: 0.1708 - val_accuracy: 0.9375\n",
            "Epoch 17/20\n",
            "23/23 [==============================] - 4s 160ms/step - loss: 0.1457 - accuracy: 0.9444 - val_loss: 0.1670 - val_accuracy: 0.9375\n",
            "Epoch 18/20\n",
            "23/23 [==============================] - 4s 159ms/step - loss: 0.1495 - accuracy: 0.9292 - val_loss: 0.1715 - val_accuracy: 0.9125\n",
            "Epoch 19/20\n",
            "23/23 [==============================] - 4s 161ms/step - loss: 0.1485 - accuracy: 0.9264 - val_loss: 0.1999 - val_accuracy: 0.9250\n",
            "Epoch 20/20\n",
            "23/23 [==============================] - 4s 162ms/step - loss: 0.1385 - accuracy: 0.9389 - val_loss: 0.1738 - val_accuracy: 0.9375\n"
          ]
        }
      ],
      "source": [
        "history = model.fit(X_train, Y_train, epochs = 20, verbose=1, validation_split=0.1)"
      ]
    },
    {
      "cell_type": "code",
      "execution_count": null,
      "id": "a7c54a27",
      "metadata": {
        "id": "a7c54a27"
      },
      "outputs": [],
      "source": [
        "def plot_graph(history,string):\n",
        "    \n",
        "    plt.plot(history.history[string],label='training '+string)\n",
        "    plt.plot(history.history['val_'+string],label='validation '+string)\n",
        "    plt.legend()\n",
        "    plt.xlabel('epochs')\n",
        "    plt.ylabel(string)\n",
        "    plt.title(string+' vs epochs')\n",
        "    plt.show()"
      ]
    },
    {
      "cell_type": "code",
      "execution_count": null,
      "id": "5b9fedab",
      "metadata": {
        "id": "5b9fedab",
        "outputId": "cb1e1d1c-df6a-46e1-c0a8-66eab48c56c7",
        "colab": {
          "base_uri": "https://localhost:8080/",
          "height": 295
        }
      },
      "outputs": [
        {
          "output_type": "display_data",
          "data": {
            "image/png": "[encoded data removed]",
            "text/plain": [
              "<Figure size 432x288 with 1 Axes>"
            ]
          },
          "metadata": {
            "needs_background": "light"
          }
        }
      ],
      "source": [
        "plot_graph(history,'loss')"
      ]
    },
    {
      "cell_type": "code",
      "execution_count": null,
      "id": "da821b7f",
      "metadata": {
        "id": "da821b7f",
        "outputId": "f0bc7288-fee5-46ea-9741-04ecbf47ecbc",
        "colab": {
          "base_uri": "https://localhost:8080/",
          "height": 295
        }
      },
      "outputs": [
        {
          "output_type": "display_data",
          "data": {
            "image/png": "[encoded data removed]",
            "text/plain": [
              "<Figure size 432x288 with 1 Axes>"
            ]
          },
          "metadata": {
            "needs_background": "light"
          }
        }
      ],
      "source": [
        "plot_graph(history,'accuracy')"
      ]
    },
    {
      "cell_type": "code",
      "execution_count": null,
      "id": "3123ee5c",
      "metadata": {
        "id": "3123ee5c",
        "outputId": "8efc5d23-99a6-429a-fad6-174a5d82f2dd",
        "colab": {
          "base_uri": "https://localhost:8080/"
        }
      },
      "outputs": [
        {
          "output_type": "stream",
          "name": "stdout",
          "text": [
            "25/25 [==============================] - 2s 30ms/step - loss: 0.1391 - accuracy: 0.9450\n"
          ]
        },
        {
          "output_type": "execute_result",
          "data": {
            "text/plain": [
              "0.94"
            ]
          },
          "metadata": {},
          "execution_count": 14
        }
      ],
      "source": [
        "round(model.evaluate(X_train, Y_train)[1],2)"
      ]
    },
    {
      "cell_type": "code",
      "execution_count": null,
      "id": "73721dd9",
      "metadata": {
        "id": "73721dd9",
        "outputId": "bbb16f8a-5cb5-415b-c4ad-400323d757ff",
        "colab": {
          "base_uri": "https://localhost:8080/"
        }
      },
      "outputs": [
        {
          "output_type": "stream",
          "name": "stdout",
          "text": [
            "7/7 [==============================] - 0s 28ms/step - loss: 0.3588 - accuracy: 0.9254\n"
          ]
        },
        {
          "output_type": "execute_result",
          "data": {
            "text/plain": [
              "0.93"
            ]
          },
          "metadata": {},
          "execution_count": 15
        }
      ],
      "source": [
        "round(model.evaluate(X_test, Y_test)[1],2)"
      ]
    },
    {
      "cell_type": "code",
      "execution_count": null,
      "id": "9cc6bed1",
      "metadata": {
        "id": "9cc6bed1"
      },
      "outputs": [],
      "source": [
        "ypred = model.predict(X_test)\n",
        "\n",
        "pred = (ypred>0.5).astype('int')"
      ]
    },
    {
      "cell_type": "code",
      "execution_count": null,
      "id": "f6405c05",
      "metadata": {
        "id": "f6405c05",
        "outputId": "bdec491b-6d31-4489-f357-56a9113ac7ce",
        "colab": {
          "base_uri": "https://localhost:8080/"
        }
      },
      "outputs": [
        {
          "output_type": "stream",
          "name": "stdout",
          "text": [
            "              precision    recall  f1-score   support\n",
            "\n",
            "           0       0.89      0.84      0.86        56\n",
            "           1       0.94      0.96      0.95       145\n",
            "\n",
            "    accuracy                           0.93       201\n",
            "   macro avg       0.91      0.90      0.91       201\n",
            "weighted avg       0.92      0.93      0.92       201\n",
            "\n"
          ]
        }
      ],
      "source": [
        "\n",
        "from sklearn.metrics import classification_report\n",
        "\n",
        "print(classification_report(Y_test,pred))\n"
      ]
    },
    {
      "cell_type": "code",
      "execution_count": null,
      "id": "f4d7ba27",
      "metadata": {
        "id": "f4d7ba27",
        "colab": {
          "base_uri": "https://localhost:8080/"
        },
        "outputId": "62d51633-5ffb-4f9d-cf57-111a89b7c10b"
      },
      "outputs": [
        {
          "output_type": "stream",
          "name": "stdout",
          "text": [
            "Precision: 0.92\n",
            "Recall: 0.93\n",
            "F1: 0.92\n"
          ]
        }
      ],
      "source": [
        "from sklearn.metrics import precision_recall_fscore_support\n",
        "\n",
        "precision_score, recall_score, f1_score ,_ = precision_recall_fscore_support(Y_test, pred, average='weighted')\n",
        "\n",
        "print(\"Precision:\", round(precision_score,2))\n",
        "\n",
        "print(\"Recall:\", round(recall_score,2))\n",
        "\n",
        "print(\"F1:\", round(f1_score,2))"
      ]
    },
    {
      "cell_type": "code",
      "source": [
        "from sklearn.metrics import log_loss\n",
        "print('Log_loss: {}'.format(log_loss(Y_test, pred)))"
      ],
      "metadata": {
        "colab": {
          "base_uri": "https://localhost:8080/"
        },
        "id": "HU75WXOtosDL",
        "outputId": "ceb81ac5-96c0-45d8-a0f4-51b80eb433b6"
      },
      "id": "HU75WXOtosDL",
      "execution_count": null,
      "outputs": [
        {
          "output_type": "stream",
          "name": "stdout",
          "text": [
            "Log_loss: 2.5775564293558815\n"
          ]
        }
      ]
    },
    {
      "cell_type": "code",
      "source": [
        "from sklearn.metrics import roc_auc_score\n",
        "round(roc_auc_score(Y_test, pred),2)"
      ],
      "metadata": {
        "colab": {
          "base_uri": "https://localhost:8080/"
        },
        "id": "gS6yP7wyqUoI",
        "outputId": "b53df484-951f-4445-f4a2-44717fa8c2de"
      },
      "id": "gS6yP7wyqUoI",
      "execution_count": null,
      "outputs": [
        {
          "output_type": "execute_result",
          "data": {
            "text/plain": [
              "0.9"
            ]
          },
          "metadata": {},
          "execution_count": 22
        }
      ]
    },
    {
      "cell_type": "code",
      "source": [
        "from plot_metric.functions import BinaryClassification\n",
        "bc = BinaryClassification(Y_test, pred, labels=[\"Class 1\", \"Class 2\"])\n",
        "plt.figure(figsize=(8,8))\n",
        "bc.plot_roc_curve()\n",
        "plt.show()"
      ],
      "metadata": {
        "colab": {
          "base_uri": "https://localhost:8080/",
          "height": 513
        },
        "id": "bK6pWJ6Znm4B",
        "outputId": "906fe316-bb83-4e01-8668-eff42ae85bb5"
      },
      "id": "bK6pWJ6Znm4B",
      "execution_count": null,
      "outputs": [
        {
          "output_type": "display_data",
          "data": {
            "image/png": "[encoded data removed]",
            "text/plain": [
              "<Figure size 576x576 with 1 Axes>"
            ]
          },
          "metadata": {}
        }
      ]
    }
  ],
  "metadata": {
    "kernelspec": {
      "display_name": "Python 3",
      "language": "python",
      "name": "python3"
    },
    "language_info": {
      "codemirror_mode": {
        "name": "ipython",
        "version": 3
      },
      "file_extension": ".py",
      "mimetype": "text/x-python",
      "name": "python",
      "nbconvert_exporter": "python",
      "pygments_lexer": "ipython3",
      "version": "3.7.10"
    },
    "colab": {
      "provenance": []
    }
  },
  "nbformat": 4,
  "nbformat_minor": 5
}